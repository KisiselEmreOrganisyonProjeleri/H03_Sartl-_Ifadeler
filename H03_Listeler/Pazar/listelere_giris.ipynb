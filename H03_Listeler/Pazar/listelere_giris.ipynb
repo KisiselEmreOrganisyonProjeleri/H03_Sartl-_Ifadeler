{
 "cells": [
  {
   "cell_type": "markdown",
   "metadata": {},
   "source": [
    "# Listelere Giriş"
   ]
  },
  {
   "cell_type": "markdown",
   "metadata": {},
   "source": [
    "Veri Analizi Üzerinde çalışırken verilemizi daha iyi bir şekilde organize edebilmek gerekir. Python bir çok veri tipine misafirlik eder. örneğin dict(), list(), tuple() etc.\n",
    "\n"
   ]
  },
  {
   "cell_type": "markdown",
   "metadata": {},
   "source": []
  },
  {
   "cell_type": "code",
   "execution_count": 2,
   "metadata": {},
   "outputs": [
    {
     "name": "stdout",
     "output_type": "stream",
     "text": [
      "<class 'str'>\n",
      "pink promise, hard-leaved procket orchid, canterbury beels, sweet pea, engilish marigold, tiger lily, moon orchid, birdh of paradise, monkshood, globle thistle\n",
      "pink promise\n"
     ]
    }
   ],
   "source": [
    "flowers = \"pink promise, hard-leaved procket orchid, canterbury beels, sweet pea, engilish \\\n",
    "marigold, tiger lily, moon orchid, birdh of paradise, monkshood, globle thistle\"\n",
    "\n",
    "print(type(flowers))\n",
    "print(flowers)\n",
    "print(flowers[0:12])"
   ]
  },
  {
   "cell_type": "markdown",
   "metadata": {},
   "source": [
    "# ! String Tipindeki verilerle manipilasyon işlemleri zorludur."
   ]
  },
  {
   "cell_type": "code",
   "execution_count": 3,
   "metadata": {},
   "outputs": [
    {
     "name": "stdout",
     "output_type": "stream",
     "text": [
      "['pink promise', 'hard-leaved procket orchid', 'canterbury beels', 'sweet pea', 'tiger lily']\n",
      "<class 'list'>\n"
     ]
    }
   ],
   "source": [
    "flowers_list = [\"pink promise\",\"hard-leaved procket orchid\",\"canterbury beels\",\"sweet pea\",\"tiger lily\"]\n",
    "print(flowers_list)\n",
    "print(type(flowers_list))"
   ]
  },
  {
   "cell_type": "markdown",
   "metadata": {},
   "source": [
    "# Liste Methodları"
   ]
  },
  {
   "cell_type": "markdown",
   "metadata": {},
   "source": [
    "- istediğimiz elemana rahatlıkla ulaşabilir.\n",
    "- Liste içerisinden kaç tane veri var bunu öğrenebilirim\n",
    "- Kolaylıkla eleman ekleyip çıkarabilirim"
   ]
  },
  {
   "cell_type": "code",
   "execution_count": 5,
   "metadata": {},
   "outputs": [
    {
     "name": "stdout",
     "output_type": "stream",
     "text": [
      "pink promise\n"
     ]
    }
   ],
   "source": [
    "# İstediğimiz Ulaşma Yöntemleri\n",
    "print(flowers_list[0])"
   ]
  },
  {
   "cell_type": "code",
   "execution_count": 6,
   "metadata": {},
   "outputs": [
    {
     "name": "stdout",
     "output_type": "stream",
     "text": [
      "canterbury beels\n"
     ]
    }
   ],
   "source": [
    "print(flowers_list[2])"
   ]
  },
  {
   "cell_type": "markdown",
   "metadata": {},
   "source": [
    "### son indexe kadar dilimlemek istiyorsan son indexi varsayılan değer ile bırakman gerekiyor."
   ]
  },
  {
   "cell_type": "code",
   "execution_count": 10,
   "metadata": {},
   "outputs": [
    {
     "name": "stdout",
     "output_type": "stream",
     "text": [
      "['canterbury beels', 'sweet pea', 'tiger lily']\n"
     ]
    }
   ],
   "source": [
    "print(flowers_list[2:])# liste[başlangıç_index:bitiş_index(dahil değil)] liste[varsayılan olarak 0.index: varsayılan olarak son index(dahil)]"
   ]
  },
  {
   "cell_type": "code",
   "execution_count": 12,
   "metadata": {},
   "outputs": [
    {
     "name": "stdout",
     "output_type": "stream",
     "text": [
      "Başlangıca yakın Dilimleme: [1, 2, 3, 4]\n",
      "Sona yakın dilimleme: [8, 9]\n"
     ]
    }
   ],
   "source": [
    "ornek_liste = [1,2,3,4,5,6,7,8,9]\n",
    "print(f\"Başlangıca yakın Dilimleme: {ornek_liste[:4]}\")\n",
    "\n",
    "print(f\"Sona yakın dilimleme: {ornek_liste[-2:]}\")"
   ]
  },
  {
   "cell_type": "markdown",
   "metadata": {},
   "source": [
    "### ! Bir listenin eleman uzunluğu index sayısının bir eksiğidir."
   ]
  },
  {
   "cell_type": "code",
   "execution_count": 13,
   "metadata": {},
   "outputs": [
    {
     "name": "stdout",
     "output_type": "stream",
     "text": [
      "['pink promise', 'hard-leaved procket orchid', 'canterbury beels', 'sweet pea', 'tiger lily']\n"
     ]
    }
   ],
   "source": [
    "print(flowers_list)"
   ]
  },
  {
   "cell_type": "code",
   "execution_count": 15,
   "metadata": {},
   "outputs": [
    {
     "name": "stdout",
     "output_type": "stream",
     "text": [
      "Benim toplam çicek tür sayım: 5\n",
      "<class 'int'>\n"
     ]
    }
   ],
   "source": [
    "# len() methodu bir listedi eleman uzunluğu verir.\n",
    "print(f\"Benim toplam çicek tür sayım: {len(flowers_list)}\")\n",
    "print(type(len(flowers_list)))"
   ]
  },
  {
   "cell_type": "code",
   "execution_count": 16,
   "metadata": {},
   "outputs": [
    {
     "name": "stdout",
     "output_type": "stream",
     "text": [
      "Listenin index uzunluğu: 4\n"
     ]
    }
   ],
   "source": [
    "index_uzunlugu = len(flowers_list) - 1 # eleman uzunluğundan 1 çıkartarak index uzunluğunu bulduk\n",
    "print(f\"Listenin index uzunluğu: {index_uzunlugu}\")"
   ]
  },
  {
   "cell_type": "markdown",
   "metadata": {},
   "source": [
    "### Veri EKleme"
   ]
  },
  {
   "cell_type": "code",
   "execution_count": 17,
   "metadata": {},
   "outputs": [
    {
     "name": "stdout",
     "output_type": "stream",
     "text": [
      "['pink promise', 'hard-leaved procket orchid', 'canterbury beels', 'sweet pea', 'tiger lily']\n"
     ]
    }
   ],
   "source": [
    "print(flowers_list)"
   ]
  },
  {
   "cell_type": "markdown",
   "metadata": {},
   "source": []
  },
  {
   "cell_type": "code",
   "execution_count": 18,
   "metadata": {},
   "outputs": [],
   "source": [
    "flowers_list.append('birdh of paradise') #append() parantez içerisine yazdığın değeri listenin en son elemanı olarak ekler"
   ]
  },
  {
   "cell_type": "markdown",
   "metadata": {},
   "source": [
    "### !!! yanlış kullanım"
   ]
  },
  {
   "cell_type": "code",
   "execution_count": null,
   "metadata": {},
   "outputs": [],
   "source": [
    "flowers_list = flowers_list.append('birdh of paradise')"
   ]
  },
  {
   "cell_type": "code",
   "execution_count": 19,
   "metadata": {},
   "outputs": [
    {
     "name": "stdout",
     "output_type": "stream",
     "text": [
      "['pink promise', 'hard-leaved procket orchid', 'canterbury beels', 'sweet pea', 'tiger lily', 'birdh of paradise']\n"
     ]
    }
   ],
   "source": [
    "print(flowers_list)"
   ]
  },
  {
   "cell_type": "code",
   "execution_count": 20,
   "metadata": {},
   "outputs": [],
   "source": [
    "flowers_list.insert(1,' monkshood') # insert(eklenecek_index, eklenecek_eleman) eklemek istediğin elemanı hangi indexin öncesine eklemek istersen o indexi yazarak ekleyebilirsin"
   ]
  },
  {
   "cell_type": "code",
   "execution_count": 21,
   "metadata": {},
   "outputs": [
    {
     "name": "stdout",
     "output_type": "stream",
     "text": [
      "['pink promise', ' monkshood', 'hard-leaved procket orchid', 'canterbury beels', 'sweet pea', 'tiger lily', 'birdh of paradise']\n"
     ]
    }
   ],
   "source": [
    "print(flowers_list)"
   ]
  },
  {
   "cell_type": "markdown",
   "metadata": {},
   "source": [
    "### Eleman Kaldırma"
   ]
  },
  {
   "cell_type": "code",
   "execution_count": 22,
   "metadata": {},
   "outputs": [
    {
     "data": {
      "text/plain": [
       "'sweet pea'"
      ]
     },
     "execution_count": 22,
     "metadata": {},
     "output_type": "execute_result"
    }
   ],
   "source": [
    "print(flowers_list.pop(-3))"
   ]
  },
  {
   "cell_type": "code",
   "execution_count": 24,
   "metadata": {},
   "outputs": [
    {
     "name": "stdout",
     "output_type": "stream",
     "text": [
      "['pink promise', ' monkshood', 'hard-leaved procket orchid', 'canterbury beels', 'tiger lily', 'birdh of paradise']\n"
     ]
    }
   ],
   "source": [
    "print(flowers_list)"
   ]
  },
  {
   "cell_type": "markdown",
   "metadata": {},
   "source": [
    "# Listeler Yalnızca Stringler İçin Değildir !!!"
   ]
  },
  {
   "cell_type": "markdown",
   "metadata": {},
   "source": [
    "### örnek olarak 2000 yılının Nisan ayının ilk haftasında satılan kitap satış adetlerini liste içerisinde saklayalım."
   ]
  },
  {
   "cell_type": "markdown",
   "metadata": {},
   "source": []
  },
  {
   "cell_type": "code",
   "execution_count": 26,
   "metadata": {},
   "outputs": [
    {
     "name": "stdout",
     "output_type": "stream",
     "text": [
      "[139, 128, 172, 139, 191, 168, 170]\n",
      "<class 'list'>\n"
     ]
    }
   ],
   "source": [
    "kitap_satislari = [139,128,172,139,191,168,170]\n",
    "print(kitap_satislari)\n",
    "print(type(kitap_satislari))"
   ]
  },
  {
   "cell_type": "markdown",
   "metadata": {},
   "source": []
  },
  {
   "cell_type": "code",
   "execution_count": 27,
   "metadata": {},
   "outputs": [
    {
     "name": "stdout",
     "output_type": "stream",
     "text": [
      "Listenin Eleman Uzunluğu: 7\n"
     ]
    }
   ],
   "source": [
    "print(f\"Listenin Eleman Uzunluğu: {len(kitap_satislari)}\")"
   ]
  },
  {
   "cell_type": "code",
   "execution_count": 29,
   "metadata": {},
   "outputs": [
    {
     "name": "stdout",
     "output_type": "stream",
     "text": [
      "Salı Günü Satılan Kitap Adedi: 128 adettir.\n"
     ]
    }
   ],
   "source": [
    "print(f\"Salı Günü Satılan Kitap Adedi: {kitap_satislari[1]} adettir.\")"
   ]
  },
  {
   "cell_type": "code",
   "execution_count": 31,
   "metadata": {},
   "outputs": [
    {
     "name": "stdout",
     "output_type": "stream",
     "text": [
      "Haftalık maximum satılan kitap adedi: 191 adet kitap satılmıştır.\n"
     ]
    }
   ],
   "source": [
    "# Haftalık maximum satılan kitap adedi\n",
    "print(f\"Haftalık maximum satılan kitap adedi: {max(kitap_satislari)} adet kitap satılmıştır.\")"
   ]
  },
  {
   "cell_type": "code",
   "execution_count": 32,
   "metadata": {},
   "outputs": [
    {
     "name": "stdout",
     "output_type": "stream",
     "text": [
      "Haftalık minimum satılan kitap adedi: 128 adet kitap satılmıştır.\n"
     ]
    }
   ],
   "source": [
    "# Haftalık minimum satılan kitap adedi\n",
    "print(f\"Haftalık minimum satılan kitap adedi: {min(kitap_satislari)} adet kitap satılmıştır.\")"
   ]
  },
  {
   "cell_type": "code",
   "execution_count": 34,
   "metadata": {},
   "outputs": [
    {
     "name": "stdout",
     "output_type": "stream",
     "text": [
      "Haftalık toplam kitap satış adedi: 1107 adet kitap satılmıştır.\n"
     ]
    }
   ],
   "source": [
    "print(f\"Haftalık toplam kitap satış adedi: {sum(kitap_satislari)} adet kitap satılmıştır.\")"
   ]
  },
  {
   "cell_type": "markdown",
   "metadata": {},
   "source": [
    "# SADECE HAFTA İÇİ ORTALAMA KİTAP SATIŞINI HESAPLAYALIM"
   ]
  },
  {
   "cell_type": "markdown",
   "metadata": {},
   "source": [
    "### ORTALAMA BİR KALİTELİ UYGULAMA"
   ]
  },
  {
   "cell_type": "code",
   "execution_count": 35,
   "metadata": {},
   "outputs": [
    {
     "name": "stdout",
     "output_type": "stream",
     "text": [
      "153.8\n"
     ]
    }
   ],
   "source": [
    "print(sum(kitap_satislari[:5]) / 5)"
   ]
  },
  {
   "cell_type": "markdown",
   "metadata": {},
   "source": [
    "# KALİTELİ BİR UYGULAMA"
   ]
  },
  {
   "cell_type": "code",
   "execution_count": null,
   "metadata": {},
   "outputs": [],
   "source": [
    "!pip install numpy"
   ]
  },
  {
   "cell_type": "code",
   "execution_count": 40,
   "metadata": {},
   "outputs": [
    {
     "name": "stdout",
     "output_type": "stream",
     "text": [
      "Hafta içi satılan ortalama kitap adedi: 153.8\n"
     ]
    }
   ],
   "source": [
    "from numpy import mean\n",
    "\n",
    "hafta_içi_satilan_kitaplar = kitap_satislari[:5]\n",
    "hafta_ici_ortalam_satilan_kitaplar = mean(hafta_içi_satilan_kitaplar)\n",
    "print(f\"Hafta içi satılan ortalama kitap adedi: {hafta_ici_ortalam_satilan_kitaplar}\")"
   ]
  },
  {
   "cell_type": "markdown",
   "metadata": {},
   "source": []
  }
 ],
 "metadata": {
  "kernelspec": {
   "display_name": "sanal_ortam",
   "language": "python",
   "name": "python3"
  },
  "language_info": {
   "codemirror_mode": {
    "name": "ipython",
    "version": 3
   },
   "file_extension": ".py",
   "mimetype": "text/x-python",
   "name": "python",
   "nbconvert_exporter": "python",
   "pygments_lexer": "ipython3",
   "version": "3.12.1"
  }
 },
 "nbformat": 4,
 "nbformat_minor": 2
}
