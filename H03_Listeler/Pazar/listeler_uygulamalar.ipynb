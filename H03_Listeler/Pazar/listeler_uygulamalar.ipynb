{
 "cells": [
  {
   "cell_type": "markdown",
   "metadata": {},
   "source": [
    "# soru 1"
   ]
  },
  {
   "cell_type": "markdown",
   "metadata": {},
   "source": [
    "Kendi resturantınızın menüsünde 5 tane yemek olduğunu düşünelim. Bu yemek verilerini Pythonda Liste kullanarak organize etmek istiyorsunuz.\n",
    "Bir gün şu aşağıdaki fikirlere sahip oldunuz.\n",
    "\n",
    "        *Menu'den Fasulye Çorbasını kaldırma kararı aldınız.\n",
    "        *Menuye Kavrulmuş Çoban Salatasını Ekleme kararı aldınız.\n",
    "        \n",
    "Bu yukardaki görevlere göre listenizi değiştirirken aşağıdaki maddelere dikkat edin.\n",
    "\n",
    "        *Aşağıda oluşturulmuş menu listesini değiştirmeyin.\n",
    "        * Bu görevlerde .remove() ve .append() , pop() ve insert() metodları kullanmanız gerekiyor."
   ]
  },
  {
   "cell_type": "code",
   "execution_count": null,
   "metadata": {},
   "outputs": [],
   "source": []
  },
  {
   "cell_type": "code",
   "execution_count": 2,
   "metadata": {},
   "outputs": [],
   "source": [
    "menu = [\"soğanla haşlanmış et\", \"fasulye çorbası\",\"alabalık ve karidesli risotto\", \"kremalı ve soğanlı balık çorbası\",\"gyro\"]\n",
    "\n",
    "menu.remove(\"fasulye çorbası\")"
   ]
  },
  {
   "cell_type": "code",
   "execution_count": 3,
   "metadata": {},
   "outputs": [
    {
     "name": "stdout",
     "output_type": "stream",
     "text": [
      "['soğanla haşlanmış et', 'alabalık ve karidesli risotto', 'kremalı ve soğanlı balık çorbası', 'gyro']\n"
     ]
    }
   ],
   "source": [
    "print(menu)"
   ]
  },
  {
   "cell_type": "code",
   "execution_count": 4,
   "metadata": {},
   "outputs": [],
   "source": [
    "menu.insert(-1,'Kavrulmuş Çoban Salatısı')"
   ]
  },
  {
   "cell_type": "code",
   "execution_count": 5,
   "metadata": {},
   "outputs": [
    {
     "name": "stdout",
     "output_type": "stream",
     "text": [
      "['soğanla haşlanmış et', 'alabalık ve karidesli risotto', 'kremalı ve soğanlı balık çorbası', 'Kavrulmuş Çoban Salatısı', 'gyro']\n"
     ]
    }
   ],
   "source": [
    "print(menu)"
   ]
  },
  {
   "cell_type": "markdown",
   "metadata": {},
   "source": [
    "# Soru 2"
   ]
  },
  {
   "cell_type": "markdown",
   "metadata": {},
   "source": [
    "numCustomers isimli listemiz son 1 ayda resturantımıza her gün kaç kişi geldiğini içeren bir listedir.(30 Gün).\n",
    "Bu listeye göre aşağıdaki işlemleri yaptırın.\n",
    "\n",
    "           * avgFirstSeven - ilk 7 günde resturanta gelen ortalama müşteri sayısını bulun.\n",
    "           * avgLastSeven - son 7 günde returanta gelen ortalama müşteri sayısını bulun.\n",
    "           * maxMounth - Son ayda en fazla gelen müşteri sayısını bulun.\n",
    "           * minMounth - Son ayda en az gelen müşteri sayısını bulun.\n",
    "           \n",
    "Bu işlemleri yaparken metodları kullanmak zorundasınız. Örnek olarak en az müşteri için min() metodunu kullanın."
   ]
  },
  {
   "cell_type": "code",
   "execution_count": 7,
   "metadata": {},
   "outputs": [],
   "source": [
    "numCustomers = [137, 147, 135, 128, 170, 174, 165, 146, 126, 159,\n",
    "                 141, 148, 132, 147, 168, 153, 170, 161, 148, 152,\n",
    "                 141, 151, 131, 149, 164, 163, 143, 143, 166, 171]"
   ]
  },
  {
   "cell_type": "code",
   "execution_count": 9,
   "metadata": {},
   "outputs": [
    {
     "name": "stdout",
     "output_type": "stream",
     "text": [
      "\n",
      "        İlk Hafta Ortalama Müşteri Sayısı: 151\n",
      "\n",
      "        Son Hafta Ortalam Müşteri Sayısı: 157.0\n",
      "\n",
      "        En Fazla Gelen Müşteri Sayısı: 174\n",
      "\n",
      "        En Az Gelen Müşteri Sayısı: 126\n",
      "\n"
     ]
    }
   ],
   "source": [
    "from numpy import mean\n",
    "ilk_yedi_gun = numCustomers[:7]\n",
    "ortalama_musteri_ilk_yedi = round(mean(ilk_yedi_gun))\n",
    "\n",
    "son_yedi_gun = numCustomers[-7:]\n",
    "ortalama_musteri_son_yedi = mean(son_yedi_gun)\n",
    "\n",
    "en_fazla_musteri = max(numCustomers)\n",
    "\n",
    "en_az_musteri = min(numCustomers)\n",
    "\n",
    "print(f\"\"\"\n",
    "        İlk Hafta Ortalama Müşteri Sayısı: {ortalama_musteri_ilk_yedi}\n",
    "\n",
    "        Son Hafta Ortalam Müşteri Sayısı: {ortalama_musteri_son_yedi}\n",
    "\n",
    "        En Fazla Gelen Müşteri Sayısı: {en_fazla_musteri}\n",
    "\n",
    "        En Az Gelen Müşteri Sayısı: {en_az_musteri}\n",
    "\"\"\")"
   ]
  },
  {
   "cell_type": "markdown",
   "metadata": {},
   "source": [
    "# Soru 3"
   ]
  },
  {
   "cell_type": "markdown",
   "metadata": {},
   "source": [
    "Diyelim ki bir web sitesini analiz ediyorsunuz.Sizin geçmiş bir kaç yıl önceki toplam kullanıcılarla şuan aktif kullanıcılar arasında yüzde kaç büyüme yaşanmış bunu return eden bir fonksiyon yazmanız gerekiyor.\n",
    "\n",
    "        *persentageGrowth() fonksiyonunuz iki tane parametre alacaktır.\n",
    "             -numUsers = bu parametre liste tipinde her yıl websitesini kaç kişi ziyaret etmiş bunu gösteren bir paramtredir.\n",
    "             -yrsAgo = Günümüzden kaç yıl öncesini hesapladığını gösteren int tipinde bir parametredir.\n",
    "             \n",
    "       * Örnek olarak diyelim ki numUsers = [920344, 1043553, 1204334, 1458996, 1503323, 1593432, 1623463, 1843064, 1930992, 2001078]\n",
    "       \n",
    "       --> eğer yrsAgo = 1 bu fonksiyonun 0.036 değerini return etmesini bekleriz.Bu yaklaşık olarak son 1 yılda %3.6 yüzdesel büyümeyi gösterir.(2001078-1930992)/1930992\n",
    "       \n",
    "       --> eğer yrsAgo = 7 Bu fonksiyonun 0.66 değerini return etmesini bekleriz. Bu yaklaşık olarak son 7 yılda %66 yüzdesel büyümeyi gösterir. (2001078-1204334)/1204334"
   ]
  },
  {
   "cell_type": "code",
   "execution_count": 19,
   "metadata": {},
   "outputs": [],
   "source": [
    "def persentageGrowth(numUsers:list, yrsAgo:int)-> float:\n",
    "    \"\"\"\n",
    "    Bir web sitesinin geçmiş trafiğine göre yüzde kaç büyüdüğünü hesaplayan fonksiyon\n",
    "    numUsers -> her yıl ne kadar ziyaretçi aldığını gösteren değer\n",
    "    yrsAgo -> Kaç yıl öncesinin büyüme yüzdesini öğrenmek istediğini gösteren değer\n",
    "    \"\"\"\n",
    "    # 1- Aşama: Listenin uzunluğunu bulalım\n",
    "    listLenght:int = len(numUsers)\n",
    "\n",
    "    # Son indexi bulalım\n",
    "    lastIndex:int = listLenght - 1\n",
    "\n",
    "    # Son elemanın değerini alalım\n",
    "    lastValue:int = numUsers[lastIndex]\n",
    "\n",
    "    # Belirli bir yıl öncesinin değerinin indexini alalım\n",
    "    indexYearsAgo:int = listLenght - yrsAgo - 1\n",
    "\n",
    "    # Belirli Bir yıl öncesinin değerini alalım\n",
    "    valueYearsAgo:int = numUsers[indexYearsAgo]\n",
    "    \n",
    "    # Kullanıcı Sayıları arasındaki farkı hesaplayalım\n",
    "    difference:int = lastValue - valueYearsAgo\n",
    "\n",
    "    # Büyüme Oranını Hesaplayalım\n",
    "    growth:float = difference / valueYearsAgo\n",
    "\n",
    "    # büyüme oranını return edelim\n",
    "    return round(growth * 100,2)"
   ]
  },
  {
   "cell_type": "code",
   "execution_count": 20,
   "metadata": {},
   "outputs": [
    {
     "name": "stdout",
     "output_type": "stream",
     "text": [
      "Web Sitemin 1 sene öncesine göre günümüzdeki büyüme oranı %3.63 kadardır.\n"
     ]
    }
   ],
   "source": [
    "numUsers = [920344, 1043553, 1204334, 1458996, 1503323, 1593432, 1623463, 1843064, 1930992, 2001078]\n",
    "yrsAgo = 1\n",
    "\n",
    "growth= persentageGrowth(numUsers=numUsers, yrsAgo=yrsAgo)\n",
    "print(f\"Web Sitemin {yrsAgo} sene öncesine göre günümüzdeki büyüme oranı %{growth} kadardır.\")"
   ]
  },
  {
   "cell_type": "code",
   "execution_count": 21,
   "metadata": {},
   "outputs": [
    {
     "name": "stdout",
     "output_type": "stream",
     "text": [
      "Web Sitemin 7 sene öncesine göre günümüzdeki büyüme oranı %66.16 kadardır.\n"
     ]
    }
   ],
   "source": [
    "numUsers = [920344, 1043553, 1204334, 1458996, 1503323, 1593432, 1623463, 1843064, 1930992, 2001078]\n",
    "yrsAgo = 7\n",
    "\n",
    "growth= persentageGrowth(numUsers=numUsers, yrsAgo=yrsAgo)\n",
    "print(f\"Web Sitemin {yrsAgo} sene öncesine göre günümüzdeki büyüme oranı %{growth} kadardır.\")"
   ]
  },
  {
   "cell_type": "markdown",
   "metadata": {},
   "source": []
  }
 ],
 "metadata": {
  "kernelspec": {
   "display_name": "sanal_ortam",
   "language": "python",
   "name": "python3"
  },
  "language_info": {
   "codemirror_mode": {
    "name": "ipython",
    "version": 3
   },
   "file_extension": ".py",
   "mimetype": "text/x-python",
   "name": "python",
   "nbconvert_exporter": "python",
   "pygments_lexer": "ipython3",
   "version": "3.12.1"
  }
 },
 "nbformat": 4,
 "nbformat_minor": 2
}
