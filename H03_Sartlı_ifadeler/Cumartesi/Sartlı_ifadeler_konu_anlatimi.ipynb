{
 "cells": [
  {
   "cell_type": "markdown",
   "metadata": {},
   "source": [
    "# Sartlı İfadeler"
   ]
  },
  {
   "cell_type": "markdown",
   "metadata": {},
   "source": [
    "Basit fonksiyonları zaten gördünüz. Örnek olarak add_five(7) fonksiyon çağırdığınızda  12 (7+5) dönücektir. add_five(8) 13=(5+8) döüncektir. İnputun ne olduğu farketmeksizin aynı işlemi yapıp sonucu vericek.\n",
    "\n",
    "Şimdi bunun inputa göre yapılan işlemin aksiyonunun değiştiğini düşünelim. \n",
    "addThreeOrEight() eğer input 10'dan küçükse 3 eklesin eğer 10 dan büyükse 8 eklesin. addThreeOrEight(1)--> 4(1+3) ama addThreeOrEight(11)--> 19(11+8) döndürecektir. Şartlı ifadeler sayesinde fonksiyonlarımızda inputlara göre farklı aksiyonlar alabiliriz."
   ]
  },
  {
   "cell_type": "markdown",
   "metadata": {},
   "source": [
    "# Giriş"
   ]
  },
  {
   "cell_type": "markdown",
   "metadata": {},
   "source": [
    "Pythonda şartlı ifadeler bize Arka Planda True, False ifade döndürür. Mesela iki sayının büyüklük küçüklüğü kıyaslayarak bakalım."
   ]
  },
  {
   "cell_type": "code",
   "execution_count": 1,
   "metadata": {},
   "outputs": [
    {
     "name": "stdout",
     "output_type": "stream",
     "text": [
      "False\n"
     ]
    }
   ],
   "source": [
    "print(2 > 3)"
   ]
  },
  {
   "cell_type": "markdown",
   "metadata": {},
   "source": [
    "Yukarıda direkt 2 ve 3 değerini kullandık. Ama pythonda programlmda şartlı ifadeleri direkt değerleri kıyaslamak yerine sabit değerleri değişkenlere atayıp değişkenleri kıyaslarız."
   ]
  },
  {
   "cell_type": "code",
   "execution_count": 2,
   "metadata": {},
   "outputs": [
    {
     "name": "stdout",
     "output_type": "stream",
     "text": [
      "True\n",
      "False\n",
      "False\n"
     ]
    }
   ],
   "source": [
    "deger1  = 3\n",
    "deger2 = 5\n",
    "\n",
    "\n",
    "print(deger1 < 5)\n",
    "print(deger2 > 9)\n",
    "print(deger1 == deger2)"
   ]
  },
  {
   "cell_type": "markdown",
   "metadata": {},
   "source": []
  },
  {
   "cell_type": "markdown",
   "metadata": {},
   "source": [
    "Sembol Anlamı\n",
    "\n",
    "== eşittir\n",
    "\n",
    "!= eşit değildir\n",
    "\n",
    "< küçüktür\n",
    "\n",
    "<= küçüktür veya eşittir\n",
    "\n"
   ]
  },
  {
   "cell_type": "code",
   "execution_count": 3,
   "metadata": {},
   "outputs": [],
   "source": [
    "# > büyüktür\n",
    "\n",
    "# >= büyüktür veya eşittir"
   ]
  },
  {
   "cell_type": "markdown",
   "metadata": {},
   "source": []
  },
  {
   "cell_type": "markdown",
   "metadata": {},
   "source": [
    "# İf  İfadeleri\n",
    "\n",
    "En basit şartlı ifadeleri if keyword ile oluşturuyoruz\n",
    "\n",
    "Bir havanın sıcaklık durumuna göre bilgi yazdıran bir fonksiyon içerisinde bunu inceleyelim."
   ]
  },
  {
   "cell_type": "code",
   "execution_count": 5,
   "metadata": {},
   "outputs": [],
   "source": [
    "def havayi_degerlendir(hava_sicakligi:float):\n",
    "    \"\"\"\n",
    "    Sıcaklıgın derecesine göre mesaj döndüren fonksiton\n",
    "    hava_sicakligi -> Sıcaklık Derecesi\n",
    "    \"\"\"\n",
    "\n",
    "    mesaj = \"Normal Sıcaklık\"\n",
    "    if hava_sicakligi > 38.0:\n",
    "        mesaj = 'Yüksek Sıcaklık'\n",
    "    \n",
    "    return mesaj\n",
    "    \n"
   ]
  },
  {
   "cell_type": "code",
   "execution_count": 7,
   "metadata": {},
   "outputs": [
    {
     "name": "stdout",
     "output_type": "stream",
     "text": [
      "Yüksek Sıcaklık\n"
     ]
    }
   ],
   "source": [
    "print(havayi_degerlendir(38.5))"
   ]
  },
  {
   "cell_type": "code",
   "execution_count": 8,
   "metadata": {},
   "outputs": [
    {
     "name": "stdout",
     "output_type": "stream",
     "text": [
      "Normal Sıcaklık\n"
     ]
    }
   ],
   "source": [
    "print(havayi_degerlendir(38.0))"
   ]
  },
  {
   "cell_type": "code",
   "execution_count": 9,
   "metadata": {},
   "outputs": [
    {
     "name": "stdout",
     "output_type": "stream",
     "text": [
      "Normal Sıcaklık\n"
     ]
    }
   ],
   "source": [
    "print(havayi_degerlendir(35.6))"
   ]
  },
  {
   "cell_type": "markdown",
   "metadata": {},
   "source": [
    "# if ..... else ifadeleri\n",
    "\n",
    "Eğer istenirse if'den sonra tek bir ihtimal kalması durumunda(bu zorunlu) else keywordu kullanılabilir. Else'den sonra aynı durumu bağlayan başka herhangi bir şart oluşturulamaz."
   ]
  },
  {
   "cell_type": "code",
   "execution_count": 13,
   "metadata": {},
   "outputs": [],
   "source": [
    "def evaluateTemp(temp:float):\n",
    "    \"\"\"\n",
    "    Havanın Sıcaklıgına göre değerlendşirme bir fonkstion\n",
    "    temp: Havanın Sıcaklık derecesini gösterir.\n",
    "    \"\"\"\n",
    "    if temp >=38.0:\n",
    "        mesaj = 'Yüksek Sıcaklık'\n",
    "    else:\n",
    "        mesaj = 'Normal Sıcaklık'\n",
    "    return mesaj"
   ]
  },
  {
   "cell_type": "code",
   "execution_count": 14,
   "metadata": {},
   "outputs": [
    {
     "name": "stdout",
     "output_type": "stream",
     "text": [
      "Normal Sıcaklık\n"
     ]
    }
   ],
   "source": [
    "print(evaluateTemp(35.0))"
   ]
  },
  {
   "cell_type": "code",
   "execution_count": 15,
   "metadata": {},
   "outputs": [
    {
     "name": "stdout",
     "output_type": "stream",
     "text": [
      "Yüksek Sıcaklık\n"
     ]
    }
   ],
   "source": [
    "print(evaluateTemp(38.0))"
   ]
  },
  {
   "cell_type": "markdown",
   "metadata": {},
   "source": [
    "# if..elif...else \n",
    "Eğer 2'den fazla şartlı ifademiz varsa bunun elif kullanarak arttırabiliriz. Bunun faydası daha kompleks işler yapılabilir.\n",
    "\n",
    "\n",
    "if temp > 38.0 --> yüksek sıcaklık döndürsün\n",
    "\n",
    "elif temp > 36.0 --> normal sıcaklık döndürdün\n",
    "\n",
    "else: --> Düşük Sıcaklık Döndürsün"
   ]
  },
  {
   "cell_type": "code",
   "execution_count": 16,
   "metadata": {},
   "outputs": [],
   "source": [
    "def evaluateTemp(temp:float):\n",
    "    \"\"\"\n",
    "    Sıcaklıgın derecesine göre mesaj döndüren fonksiton\n",
    "    hava_sicakligi -> Sıcaklık Derecesi\n",
    "    \"\"\"\n",
    "    if temp > 38.0:\n",
    "        mesaj = 'Yüksek Sıcaklık'\n",
    "    elif temp > 36.0:\n",
    "        mesaj = 'Normal Sıcaklık'\n",
    "    else: \n",
    "        mesaj = 'Düşük Sıcaklık'\n",
    "    return mesaj"
   ]
  },
  {
   "cell_type": "code",
   "execution_count": 17,
   "metadata": {},
   "outputs": [
    {
     "name": "stdout",
     "output_type": "stream",
     "text": [
      "Yüksek Sıcaklık\n"
     ]
    }
   ],
   "source": [
    "print(evaluateTemp(39.0))"
   ]
  },
  {
   "cell_type": "code",
   "execution_count": 18,
   "metadata": {},
   "outputs": [
    {
     "name": "stdout",
     "output_type": "stream",
     "text": [
      "Normal Sıcaklık\n"
     ]
    }
   ],
   "source": [
    "print(evaluateTemp(37.5))"
   ]
  },
  {
   "cell_type": "code",
   "execution_count": 19,
   "metadata": {},
   "outputs": [
    {
     "name": "stdout",
     "output_type": "stream",
     "text": [
      "Düşük Sıcaklık\n"
     ]
    }
   ],
   "source": [
    "print(evaluateTemp(34.3))"
   ]
  },
  {
   "cell_type": "markdown",
   "metadata": {},
   "source": [
    "# Hesaplama Örneği yapalım\n",
    "İnputlara göre farklı aksiyonları almayı öğrendik. Şimdi şartlı ifadeler ile farklı hesaplamalar yapmaya bakalım.\n",
    "\n",
    "Bu örnekte Ülkede yaşayanların yıllık kazancı 12000 dolardan az ise %25 veri kesilsin ve vergiyi hesaplasın. 12000 dolar ya da fazla kazanalara ise %30 vergi kesilsin bunun hesaplamasını yapalım."
   ]
  },
  {
   "cell_type": "code",
   "execution_count": 20,
   "metadata": {},
   "outputs": [],
   "source": [
    "def getTaxes(earnings:float):\n",
    "    \"\"\"\n",
    "    çalışanların yıllık dolar cinsinden gelirine göre Veri oranını aldıktan sonraki kesilen maaşı hesaplar \n",
    "    earnings -> Çalışanın Yıllık Geliri\n",
    "    \"\"\"\n",
    "    if earnings < 12000.0:\n",
    "        taxOwed = 0.25 * earnings # taxOwed -> Hesaplanmış Gelir\n",
    "    else:\n",
    "        taxOwed = 0.30 * earnings\n",
    "    return taxOwed\n"
   ]
  },
  {
   "cell_type": "code",
   "execution_count": 21,
   "metadata": {},
   "outputs": [
    {
     "name": "stdout",
     "output_type": "stream",
     "text": [
      "Kıvanc Bey'den Yıllık Kesilecek Vergi 3750.0$'dır.\n"
     ]
    }
   ],
   "source": [
    "kıvanc_calisan = getTaxes(12500.0)\n",
    "print(f\"Kıvanc Bey'den Yıllık Kesilecek Vergi {kıvanc_calisan}$'dır.\")"
   ]
  },
  {
   "cell_type": "code",
   "execution_count": 23,
   "metadata": {},
   "outputs": [
    {
     "name": "stdout",
     "output_type": "stream",
     "text": [
      "Kubra hanım'dan Yıllık Kesilecek Vergi 2675.0$'dır.\n"
     ]
    }
   ],
   "source": [
    "kubra_calisan = getTaxes(10700.0)\n",
    "print(f\"Kubra hanım'dan Yıllık Kesilecek Vergi {kubra_calisan}$'dır.\")"
   ]
  },
  {
   "cell_type": "markdown",
   "metadata": {},
   "source": [
    "# Uygulama 2"
   ]
  },
  {
   "cell_type": "markdown",
   "metadata": {},
   "source": [
    "Çoklu if...elif...else örneği kullanarak bir uygulama yapalım\n",
    "\n",
    "Bir ilacın ağırlığına göre kaç mg doz ilaç verilmesi gerekiyor bunu hesaplayan bir fonksiyon tanımlayalım."
   ]
  },
  {
   "cell_type": "markdown",
   "metadata": {},
   "source": []
  },
  {
   "cell_type": "code",
   "execution_count": 24,
   "metadata": {},
   "outputs": [],
   "source": [
    "def getDose(weight:float):\n",
    "    \"\"\"\n",
    "    Bir ilaçın ağırlığına göre g başına kaç mg doz ilaç verilmesini hesaplayan fonksiyon.\n",
    "    weight -> Bir ilacın kilogram cinsinden ağırlığı\n",
    "    \"\"\"\n",
    "    # Her çocuk için doz her 5.2kg altı için 1.25mg doz verilmesi gerekiyor.\n",
    "    if weight < 5.2:\n",
    "        dose = 1.25\n",
    "    elif weight < 7.9:\n",
    "        dose = 2.5\n",
    "    elif weight < 10.4:\n",
    "        dose = 3.75\n",
    "    elif weight < 15.9:\n",
    "        dose = 5.0\n",
    "    elif weight < 21.2:\n",
    "        dose = 7.5\n",
    "    # 21.2 kg üstü her ilaç için sabit olarak 10mg dose verilmesi uygundur.\n",
    "    else:\n",
    "        dose = 10.0\n",
    "    return dose"
   ]
  },
  {
   "cell_type": "code",
   "execution_count": 25,
   "metadata": {},
   "outputs": [
    {
     "name": "stdout",
     "output_type": "stream",
     "text": [
      "Birinci Çocuğun alması gereken Doz Miktarı: 5.0 mg/g'dır.\n"
     ]
    }
   ],
   "source": [
    "child1 = getDose(12.0)\n",
    "print(f\"Birinci Çocuğun alması gereken Doz Miktarı: {child1} mg/g'dır.\")\n"
   ]
  },
  {
   "cell_type": "code",
   "execution_count": 26,
   "metadata": {},
   "outputs": [
    {
     "name": "stdout",
     "output_type": "stream",
     "text": [
      "İkinci Çocuğun alması gereken Doz Miktarı: 1.25 mg/g'dır.\n"
     ]
    }
   ],
   "source": [
    "child2 = getDose(3.0)\n",
    "print(f\"İkinci Çocuğun alması gereken Doz Miktarı: {child2} mg/g'dır.\")\n"
   ]
  },
  {
   "cell_type": "markdown",
   "metadata": {},
   "source": []
  },
  {
   "cell_type": "code",
   "execution_count": 27,
   "metadata": {},
   "outputs": [
    {
     "name": "stdout",
     "output_type": "stream",
     "text": [
      "Üçüncğ Çocuğun alması gereken Doz Miktarı: 7.5 mg/g'dır.\n"
     ]
    }
   ],
   "source": [
    "child3 = getDose(21.0)\n",
    "print(f\"Üçüncğ Çocuğun alması gereken Doz Miktarı: {child3} mg/g'dır.\")\n"
   ]
  },
  {
   "cell_type": "code",
   "execution_count": null,
   "metadata": {},
   "outputs": [],
   "source": []
  }
 ],
 "metadata": {
  "kernelspec": {
   "display_name": "sanal_ortam",
   "language": "python",
   "name": "python3"
  },
  "language_info": {
   "codemirror_mode": {
    "name": "ipython",
    "version": 3
   },
   "file_extension": ".py",
   "mimetype": "text/x-python",
   "name": "python",
   "nbconvert_exporter": "python",
   "pygments_lexer": "ipython3",
   "version": "3.12.1"
  }
 },
 "nbformat": 4,
 "nbformat_minor": 2
}
