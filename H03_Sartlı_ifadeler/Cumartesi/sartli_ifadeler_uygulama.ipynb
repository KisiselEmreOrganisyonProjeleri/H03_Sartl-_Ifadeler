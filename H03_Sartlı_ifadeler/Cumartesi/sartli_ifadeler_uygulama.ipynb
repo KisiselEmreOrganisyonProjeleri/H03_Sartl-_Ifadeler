{
 "cells": [
  {
   "cell_type": "markdown",
   "metadata": {},
   "source": [
    "# Soru 1"
   ]
  },
  {
   "cell_type": "markdown",
   "metadata": {},
   "source": [
    "Bir okulda öğretmen olduğunuzu düşünelim ve öğrencilerin notlarını hesaplıcaksınız. Öğrencilerin notları 0-100 arasında puanlardır. Ama siz e-okula (A,B,C,D,F) olarak girmeniz gerekiyor. Buradaki harflerin her biri bir puan aralığını temsil eder. Bu puan aralığına göre öğrencilerin notlarını sınıflandırcaksınız."
   ]
  },
  {
   "cell_type": "markdown",
   "metadata": {},
   "source": [
    "- \"A\" - any grade 90-100, inclusive\n",
    "- \"B\" - any grade 80-89, inclusive\n",
    "- \"C\" - any grade 70-79, inclusive\n",
    "- \"D\" - any grade 60-69, inclusive\n",
    "- \"F\" - any grade <60"
   ]
  },
  {
   "cell_type": "markdown",
   "metadata": {},
   "source": []
  },
  {
   "cell_type": "markdown",
   "metadata": {},
   "source": [
    "İlk çağırmada öğrenci 85 puan alsın. B grade'i atayın. --> getGrade(85) return B\n",
    "\n",
    "İkinci çağırmada öğrenci 49 puan alsın. F grade'i atayın. --> getGrade(49) return F"
   ]
  },
  {
   "cell_type": "code",
   "execution_count": 11,
   "metadata": {},
   "outputs": [],
   "source": [
    "def getGrade(score:float)-> tuple:\n",
    "    \"\"\"\n",
    "    Öğrencinin aldığı puana göre not hesaplayan fonksiyon\n",
    "\n",
    "    score -> Öğrencinin Aldığı Puan\n",
    "    \"\"\"\n",
    "    if score <= 100 and score >= 90: # and mantıksal operatörü iki koşulunda karşılanma zorunluğluğunu içerir\n",
    "        grade = 'A'\n",
    "    elif score >= 80:\n",
    "        grade = 'B'\n",
    "    elif score >= 70:\n",
    "        grade = 'C'\n",
    "    elif score >= 60:\n",
    "        grade = 'D'\n",
    "    else:\n",
    "        grade = 'F'\n",
    "    return grade, score"
   ]
  },
  {
   "cell_type": "code",
   "execution_count": 12,
   "metadata": {},
   "outputs": [
    {
     "name": "stdout",
     "output_type": "stream",
     "text": [
      "Kübra 85.0 puanından B not almıştır.\n"
     ]
    }
   ],
   "source": [
    "kubra_ogrenci, score = getGrade(85.0)\n",
    "print(f\"Kübra {score} puanından {kubra_ogrenci} not almıştır.\")"
   ]
  },
  {
   "cell_type": "code",
   "execution_count": 13,
   "metadata": {},
   "outputs": [
    {
     "name": "stdout",
     "output_type": "stream",
     "text": [
      "Alper F not almıştır.\n"
     ]
    }
   ],
   "source": [
    "alper_ogrenci, _ = getGrade(49.9)\n",
    "print(f\"Alper {alper_ogrenci} not almıştır.\")"
   ]
  },
  {
   "cell_type": "markdown",
   "metadata": {},
   "source": [
    "# Soru 2"
   ]
  },
  {
   "cell_type": "markdown",
   "metadata": {},
   "source": [
    "Bir kuyumcusunuz ve yüzüklerin hammadesine ve işlenmesine bir yüzüğün yapım projesinin maliyetini hesaplayan bir fonksiyon yapmak istiyorsunuz.\n",
    "\n",
    "        * Altın kaplama bir yüzüğün base fiyatını 50 dolardır. Altın kaplamaya işleme için atılan her harf 7 dolardır.\n",
    "        \n",
    "        * Gerçek altın yüzüğün base fiyatı 100 dolardır. Gerçek altın yüzüğe işleme için atılan her harf ise 10 dolardır."
   ]
  },
  {
   "cell_type": "markdown",
   "metadata": {},
   "source": [
    "costOfProject() Fonksiyonumuzun iki tane parametresi vardır:\n",
    "\n",
    "        *engraving --> yüzüğün üstüne yazılacak isimdir. (String Tipinde)\n",
    "        \n",
    "        *solidGold --> Altının gerçek mi yoksa kaplama mı onu gösterir.(True=Gerçek / False=Kaplama)\n",
    "        \n",
    "        projenin maliyetini return etmelidir."
   ]
  },
  {
   "cell_type": "code",
   "execution_count": 19,
   "metadata": {},
   "outputs": [],
   "source": [
    "def costOfProject(engraving:str,solidGold:bool)->float:\n",
    "    \"\"\"\n",
    "    Bir yüzüğe yapılacak işlemin maliyetini döndüren fonksiyon\n",
    "\n",
    "    engraving -> yüzüğün üstüne yazılacak kelime\n",
    "    solidGold -> True/Gerçek False/Altın kaplamadır\n",
    "    \"\"\"\n",
    "    birim_harf = len(engraving)\n",
    "    if solidGold: # Eğer yüzük gerçek altınsa işlem yap\n",
    "        cost:float = 100.0 + 10.0 * birim_harf\n",
    "    else:\n",
    "        cost:float = 50.0 + 7.0 * birim_harf\n",
    "    \n",
    "    return cost\n"
   ]
  },
  {
   "cell_type": "code",
   "execution_count": 20,
   "metadata": {},
   "outputs": [
    {
     "name": "stdout",
     "output_type": "stream",
     "text": [
      "Emreye evlilik için alınan yüzüğün yapım maliyeti: 140.0 $'dır.\n"
     ]
    }
   ],
   "source": [
    "evlilik_yuzugu = costOfProject(\"emre\", True)\n",
    "print(f\"Emreye evlilik için alınan yüzüğün yapım maliyeti: {evlilik_yuzugu} $'dır.\")"
   ]
  },
  {
   "cell_type": "code",
   "execution_count": 21,
   "metadata": {},
   "outputs": [
    {
     "name": "stdout",
     "output_type": "stream",
     "text": [
      "Ogrenicinin yaptırdıgı yuzugun yapım maliyeti: 85.0 $'dır.\n"
     ]
    }
   ],
   "source": [
    "ogrenci_yuzugu = costOfProject('ozkan',False)\n",
    "print(f\"Ogrenicinin yaptırdıgı yuzugun yapım maliyeti: {ogrenci_yuzugu} $'dır.\")"
   ]
  },
  {
   "cell_type": "code",
   "execution_count": 15,
   "metadata": {},
   "outputs": [
    {
     "data": {
      "text/plain": [
       "40"
      ]
     },
     "execution_count": 15,
     "metadata": {},
     "output_type": "execute_result"
    }
   ],
   "source": [
    "islenecek_isim = 'emre'\n",
    "len(islenecek_isim) * 10"
   ]
  },
  {
   "cell_type": "markdown",
   "metadata": {},
   "source": [
    "# Soru 3"
   ]
  },
  {
   "cell_type": "markdown",
   "metadata": {},
   "source": [
    "Bir su şirketinde programcı olduğunuzu düşünelim. getWaterBill() adında bir fonksiyon tasarladığıznı düşünelim. Bu fonksiyon parametre olarak:\n",
    "        \n",
    "        *numLiters --> Bir müşterinin bir ayda kaç litre su harcadığını temsil eder."
   ]
  },
  {
   "cell_type": "markdown",
   "metadata": {},
   "source": []
  },
  {
   "cell_type": "markdown",
   "metadata": {},
   "source": [
    "Tier\tAmount in liters\tPrice per 1000 liters\n",
    "\n",
    "Tier 1\t        0 - 8,000\t        $5\n",
    "\n",
    "Tier 2\t       8,001 - 22,000\t$6\n",
    "\n",
    "Tier 3\t       22,001 - 30,000\t$7\n",
    "\n",
    "Tier 4\t       30,001+\t        $10"
   ]
  },
  {
   "cell_type": "markdown",
   "metadata": {},
   "source": [
    "Tier2 seviyesinde Eğer işletme bir ayda 10000 lt su tüketirse 6$ * 10 = 60$ --> getWaterbill(10000) bu fonksiyon 60.0 return etmelidir.\n",
    "\n",
    "Tier3 seviyesinde bir işletme 25.000 lt su tüketirse 7$ * 25 = 175$  --> getWaterbill(25000) bu fonksiyon 175.0 return etmelidir."
   ]
  },
  {
   "cell_type": "code",
   "execution_count": 1,
   "metadata": {},
   "outputs": [],
   "source": [
    "def getWaterBill(numLiters:float)->float:\n",
    "    \"\"\"\n",
    "    Kullanıcının Aylık Tükettiği Litre Suya Göre Maliyetini HEsaplayan Fonksiyon\n",
    "    numLiters -> Aylık Tükketiği Litre Su\n",
    "    \"\"\"\n",
    "    if numLiters <= 8000:\n",
    "        bill = 5.0 * numLiters / 1000 # 1 galoon = 1000L\n",
    "    elif numLiters <= 22000:\n",
    "        bill = 6.0 * numLiters / 1000\n",
    "    elif numLiters <= 30000:\n",
    "        bill = 7.0 * numLiters / 1000\n",
    "    else:\n",
    "        bill = 10.0 * numLiters / 1000\n",
    "    return bill"
   ]
  },
  {
   "cell_type": "markdown",
   "metadata": {},
   "source": [
    "Veri hizmeti sağlayan bir şirket olduğunuzu düşünelim. Kullanıcılarınıza base fiyat olarak her ay 100 dolar fatura kesiyorsunuz ve karşılığında 15GB internet sağlıyorsunuz. Ek olarak müşteri 15GB kullanımı aşarsa her 100mb(0.1GB) aşımında (15GB + 0.1GB) veya (15GB + 100mb) toplam fatura için 100 + 0.10 * 100 ödemek zorundadır. Yani toplam fatura bu örnek için 110 dolar oluyor. Başka bir deyişle getPhoneBill(15.1) 110 değerini return ediyor."
   ]
  },
  {
   "cell_type": "code",
   "execution_count": 3,
   "metadata": {},
   "outputs": [
    {
     "name": "stdout",
     "output_type": "stream",
     "text": [
      "Müşteri 1'in Tier 2 seviyesindeki aylık tüketim maliyeti: 60.0 $'dır.\n"
     ]
    }
   ],
   "source": [
    "tier2_level = getWaterBill(10000.0)\n",
    "print(f\"Müşteri 1'in Tier 2 seviyesindeki aylık tüketim maliyeti: {tier2_level} $'dır.\")"
   ]
  },
  {
   "cell_type": "code",
   "execution_count": 4,
   "metadata": {},
   "outputs": [
    {
     "name": "stdout",
     "output_type": "stream",
     "text": [
      "Müşteri 2'in Tier 2 seviyesindeki aylık tüketim maliyeti: 175.0 $'dır.\n"
     ]
    }
   ],
   "source": [
    "tier3_level = getWaterBill(25000.0)\n",
    "print(f\"Müşteri 2'in Tier 2 seviyesindeki aylık tüketim maliyeti: {tier3_level} $'dır.\")"
   ]
  },
  {
   "cell_type": "markdown",
   "metadata": {},
   "source": [
    "# Soru 4"
   ]
  },
  {
   "cell_type": "markdown",
   "metadata": {},
   "source": [
    "Veri hizmeti sağlayan bir şirket olduğunuzu düşünelim. Kullanıcılarınıza base fiyat olarak her ay 100 dolar fatura kesiyorsunuz ve karşılığında 15GB internet sağlıyorsunuz. Ek olarak müşteri 15GB kullanımı aşarsa her 100mb(0.1GB) aşımında (15GB + 0.1GB) veya (15GB + 100mb) toplam fatura için 100 + 0.10 * 100 ödemek zorundadır. Yani toplam fatura bu örnek için 110 dolar oluyor. Başka bir deyişle getPhoneBill(15.1) 110 değerini return ediyor."
   ]
  },
  {
   "cell_type": "code",
   "execution_count": 7,
   "metadata": {},
   "outputs": [],
   "source": [
    "def getPhoneBill(gb:float)->float:\n",
    "    \"\"\"\n",
    "    Aylık GB kullanımına göre fatura hesaplayan fonksiyon aşırı kullanımda exstra maliyet hesaplar.\n",
    "    gb -> Aylık kullanılan Gb miktarıdır\n",
    "    \"\"\"\n",
    "\n",
    "    if gb <= 15:\n",
    "        bill = 100.0\n",
    "    else:\n",
    "        baseBill = 100.0\n",
    "        exstraMb = (gb - 15.0) * 100 # Exstra Her 100Mb fazla harcadığını hesapladık\n",
    "        bill = baseBill + round(exstraMb)\n",
    "    return bill"
   ]
  },
  {
   "cell_type": "code",
   "execution_count": 8,
   "metadata": {},
   "outputs": [
    {
     "name": "stdout",
     "output_type": "stream",
     "text": [
      "İlk fatura aylık tutar: 110.0\n"
     ]
    }
   ],
   "source": [
    "bill1 = getPhoneBill(15.1)\n",
    "print(f\"İlk fatura aylık tutar: {bill1}\")"
   ]
  },
  {
   "cell_type": "code",
   "execution_count": 9,
   "metadata": {},
   "outputs": [
    {
     "name": "stdout",
     "output_type": "stream",
     "text": [
      "İlk fatura aylık tutar: 250.0\n"
     ]
    }
   ],
   "source": [
    "bill1 = getPhoneBill(16.5)\n",
    "print(f\"İlk fatura aylık tutar: {bill1}\")"
   ]
  },
  {
   "cell_type": "markdown",
   "metadata": {},
   "source": []
  }
 ],
 "metadata": {
  "kernelspec": {
   "display_name": "sanal_ortam",
   "language": "python",
   "name": "python3"
  },
  "language_info": {
   "codemirror_mode": {
    "name": "ipython",
    "version": 3
   },
   "file_extension": ".py",
   "mimetype": "text/x-python",
   "name": "python",
   "nbconvert_exporter": "python",
   "pygments_lexer": "ipython3",
   "version": "3.12.1"
  }
 },
 "nbformat": 4,
 "nbformat_minor": 2
}
