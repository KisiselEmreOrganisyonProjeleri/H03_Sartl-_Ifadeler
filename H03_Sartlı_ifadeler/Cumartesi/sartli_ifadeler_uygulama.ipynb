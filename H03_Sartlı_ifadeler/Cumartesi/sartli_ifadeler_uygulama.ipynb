{
 "cells": [
  {
   "cell_type": "markdown",
   "metadata": {},
   "source": [
    "# Soru 1"
   ]
  },
  {
   "cell_type": "markdown",
   "metadata": {},
   "source": [
    "Bir okulda öğretmen olduğunuzu düşünelim ve öğrencilerin notlarını hesaplıcaksınız. Öğrencilerin notları 0-100 arasında puanlardır. Ama siz e-okula (A,B,C,D,F) olarak girmeniz gerekiyor. Buradaki harflerin her biri bir puan aralığını temsil eder. Bu puan aralığına göre öğrencilerin notlarını sınıflandırcaksınız."
   ]
  },
  {
   "cell_type": "markdown",
   "metadata": {},
   "source": [
    "- \"A\" - any grade 90-100, inclusive\n",
    "- \"B\" - any grade 80-89, inclusive\n",
    "- \"C\" - any grade 70-79, inclusive\n",
    "- \"D\" - any grade 60-69, inclusive\n",
    "- \"F\" - any grade <60"
   ]
  },
  {
   "cell_type": "markdown",
   "metadata": {},
   "source": []
  },
  {
   "cell_type": "markdown",
   "metadata": {},
   "source": [
    "İlk çağırmada öğrenci 85 puan alsın. B grade'i atayın. --> getGrade(85) return B\n",
    "\n",
    "İkinci çağırmada öğrenci 49 puan alsın. F grade'i atayın. --> getGrade(49) return F"
   ]
  },
  {
   "cell_type": "code",
   "execution_count": 11,
   "metadata": {},
   "outputs": [],
   "source": [
    "def getGrade(score:float)-> tuple:\n",
    "    \"\"\"\n",
    "    Öğrencinin aldığı puana göre not hesaplayan fonksiyon\n",
    "\n",
    "    score -> Öğrencinin Aldığı Puan\n",
    "    \"\"\"\n",
    "    if score <= 100 and score >= 90: # and mantıksal operatörü iki koşulunda karşılanma zorunluğluğunu içerir\n",
    "        grade = 'A'\n",
    "    elif score >= 80:\n",
    "        grade = 'B'\n",
    "    elif score >= 70:\n",
    "        grade = 'C'\n",
    "    elif score >= 60:\n",
    "        grade = 'D'\n",
    "    else:\n",
    "        grade = 'F'\n",
    "    return grade, score"
   ]
  },
  {
   "cell_type": "code",
   "execution_count": 12,
   "metadata": {},
   "outputs": [
    {
     "name": "stdout",
     "output_type": "stream",
     "text": [
      "Kübra 85.0 puanından B not almıştır.\n"
     ]
    }
   ],
   "source": [
    "kubra_ogrenci, score = getGrade(85.0)\n",
    "print(f\"Kübra {score} puanından {kubra_ogrenci} not almıştır.\")"
   ]
  },
  {
   "cell_type": "code",
   "execution_count": 13,
   "metadata": {},
   "outputs": [
    {
     "name": "stdout",
     "output_type": "stream",
     "text": [
      "Alper F not almıştır.\n"
     ]
    }
   ],
   "source": [
    "alper_ogrenci, _ = getGrade(49.9)\n",
    "print(f\"Alper {alper_ogrenci} not almıştır.\")"
   ]
  },
  {
   "cell_type": "markdown",
   "metadata": {},
   "source": [
    "# Soru 2"
   ]
  },
  {
   "cell_type": "markdown",
   "metadata": {},
   "source": [
    "Bir kuyumcusunuz ve yüzüklerin hammadesine ve işlenmesine bir yüzüğün yapım projesinin maliyetini hesaplayan bir fonksiyon yapmak istiyorsunuz.\n",
    "\n",
    "        * Altın kaplama bir yüzüğün base fiyatını 50 dolardır. Altın kaplamaya işleme için atılan her harf 7 dolardır.\n",
    "        \n",
    "        * Gerçek altın yüzüğün base fiyatı 100 dolardır. Gerçek altın yüzüğe işleme için atılan her harf ise 10 dolardır."
   ]
  },
  {
   "cell_type": "markdown",
   "metadata": {},
   "source": [
    "costOfProject() Fonksiyonumuzun iki tane parametresi vardır:\n",
    "\n",
    "        *engraving --> yüzüğün üstüne yazılacak isimdir. (String Tipinde)\n",
    "        \n",
    "        *solidGold --> Altının gerçek mi yoksa kaplama mı onu gösterir.(True=Gerçek / False=Kaplama)\n",
    "        \n",
    "        projenin maliyetini return etmelidir."
   ]
  },
  {
   "cell_type": "code",
   "execution_count": 19,
   "metadata": {},
   "outputs": [],
   "source": [
    "def costOfProject(engraving:str,solidGold:bool)->float:\n",
    "    \"\"\"\n",
    "    Bir yüzüğe yapılacak işlemin maliyetini döndüren fonksiyon\n",
    "\n",
    "    engraving -> yüzüğün üstüne yazılacak kelime\n",
    "    solidGold -> True/Gerçek False/Altın kaplamadır\n",
    "    \"\"\"\n",
    "    birim_harf = len(engraving)\n",
    "    if solidGold: # Eğer yüzük gerçek altınsa işlem yap\n",
    "        cost:float = 100.0 + 10.0 * birim_harf\n",
    "    else:\n",
    "        cost:float = 50.0 + 7.0 * birim_harf\n",
    "    \n",
    "    return cost\n"
   ]
  },
  {
   "cell_type": "code",
   "execution_count": 20,
   "metadata": {},
   "outputs": [
    {
     "name": "stdout",
     "output_type": "stream",
     "text": [
      "Emreye evlilik için alınan yüzüğün yapım maliyeti: 140.0 $'dır.\n"
     ]
    }
   ],
   "source": [
    "evlilik_yuzugu = costOfProject(\"emre\", True)\n",
    "print(f\"Emreye evlilik için alınan yüzüğün yapım maliyeti: {evlilik_yuzugu} $'dır.\")"
   ]
  },
  {
   "cell_type": "code",
   "execution_count": 21,
   "metadata": {},
   "outputs": [
    {
     "name": "stdout",
     "output_type": "stream",
     "text": [
      "Ogrenicinin yaptırdıgı yuzugun yapım maliyeti: 85.0 $'dır.\n"
     ]
    }
   ],
   "source": [
    "ogrenci_yuzugu = costOfProject('ozkan',False)\n",
    "print(f\"Ogrenicinin yaptırdıgı yuzugun yapım maliyeti: {ogrenci_yuzugu} $'dır.\")"
   ]
  },
  {
   "cell_type": "code",
   "execution_count": 15,
   "metadata": {},
   "outputs": [
    {
     "data": {
      "text/plain": [
       "40"
      ]
     },
     "execution_count": 15,
     "metadata": {},
     "output_type": "execute_result"
    }
   ],
   "source": [
    "islenecek_isim = 'emre'\n",
    "len(islenecek_isim) * 10"
   ]
  },
  {
   "cell_type": "markdown",
   "metadata": {},
   "source": [
    "# Soru 3\n",
    "Bir yemeğin kaç kalori olduğunu hesaplayan bir fonksiyon tanımlayın. 100 gram başına Şeker oranına göre kaloriyi hesaplayın.\n",
    "\n",
    "    Eğer şeker oranı 100 gramda 5 gram ise kalorisi 700 kalori olsun\n",
    "\n",
    "    Eğer şeker oranı 100 gramda 15 gram ise kalorisi 1400 kalori olsun.\n"
   ]
  },
  {
   "cell_type": "code",
   "execution_count": null,
   "metadata": {},
   "outputs": [],
   "source": [
    "def getCalories(sugar:float):\n",
    "    \"\"\"100 gramda şeker oranına göre kalori hesaplayan fonksiyon\n",
    "        sugar -> 100 gramdaki şeker oranı\n",
    "    \"\"\"\n"
   ]
  }
 ],
 "metadata": {
  "kernelspec": {
   "display_name": "sanal_ortam",
   "language": "python",
   "name": "python3"
  },
  "language_info": {
   "codemirror_mode": {
    "name": "ipython",
    "version": 3
   },
   "file_extension": ".py",
   "mimetype": "text/x-python",
   "name": "python",
   "nbconvert_exporter": "python",
   "pygments_lexer": "ipython3",
   "version": "3.12.1"
  }
 },
 "nbformat": 4,
 "nbformat_minor": 2
}
